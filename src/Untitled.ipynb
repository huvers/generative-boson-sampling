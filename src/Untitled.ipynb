{
 "cells": [
  {
   "cell_type": "code",
   "execution_count": 15,
   "metadata": {},
   "outputs": [],
   "source": [
    "import pickle"
   ]
  },
  {
   "cell_type": "code",
   "execution_count": 26,
   "metadata": {},
   "outputs": [],
   "source": [
    "def load_model(filename):\n",
    "    print('Loading model...')\n",
    "    f=open(filename)\n",
    "    json_str = f.read()\n",
    "    model = jsonpickle.decode(json_str)\n",
    "    print('Model loaded...')\n",
    "    f.close()\n",
    "    return model"
   ]
  },
  {
   "cell_type": "code",
   "execution_count": 27,
   "metadata": {},
   "outputs": [],
   "source": [
    "data_file = '../data/data.sav'\n",
    "\n",
    "with open(data_file, \"rb\") as f:\n",
    "    train_x, train_y = pickle.load(f)"
   ]
  },
  {
   "cell_type": "code",
   "execution_count": 28,
   "metadata": {},
   "outputs": [
    {
     "name": "stdout",
     "output_type": "stream",
     "text": [
      "10000\n"
     ]
    }
   ],
   "source": [
    "print(len(train_x))"
   ]
  },
  {
   "cell_type": "code",
   "execution_count": 25,
   "metadata": {},
   "outputs": [
    {
     "name": "stdout",
     "output_type": "stream",
     "text": [
      "[2.83833285e-08 2.17149320e-06 4.17700792e-05 1.25445731e-04\n",
      " 4.62359037e-07 1.29503826e-05 1.35257473e-05 6.91779348e-07\n",
      " 1.29495444e-05 6.89083404e-06 1.37586775e-04 4.17394744e-03\n",
      " 1.11921499e-02 3.23437351e-04 1.09604968e-03 1.23932803e-03\n",
      " 6.93605839e-02 1.37319846e-01 7.30362024e-02 1.65195214e-04\n",
      " 1.03819595e-04 3.48918438e-03 9.45625640e-03 4.22636193e-04\n",
      " 4.96389010e-04 1.57044467e-03 1.02294600e-01 1.99237311e-01\n",
      " 1.08924680e-01 3.26090727e-03 6.55145564e-02 1.24353021e-01\n",
      " 7.21553515e-02 4.80535659e-03 5.65427361e-03]\n"
     ]
    }
   ],
   "source": [
    "print(train_y[0])"
   ]
  },
  {
   "cell_type": "code",
   "execution_count": null,
   "metadata": {},
   "outputs": [],
   "source": []
  }
 ],
 "metadata": {
  "kernelspec": {
   "display_name": "Python 3",
   "language": "python",
   "name": "python3"
  },
  "language_info": {
   "codemirror_mode": {
    "name": "ipython",
    "version": 3
   },
   "file_extension": ".py",
   "mimetype": "text/x-python",
   "name": "python",
   "nbconvert_exporter": "python",
   "pygments_lexer": "ipython3",
   "version": "3.5.2"
  }
 },
 "nbformat": 4,
 "nbformat_minor": 4
}
