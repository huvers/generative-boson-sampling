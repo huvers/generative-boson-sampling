{
 "cells": [
  {
   "cell_type": "markdown",
   "metadata": {},
   "source": [
    "## Author: Sean Huver\n",
    "\n",
    "#### Email: huvers@gmail.com\n",
    "\n",
    "The goal here is to create a generalized format for quickly generating data from various boson sampling configurations using the strawberryfields library. This data will then later be used to train generative ML models with Tensorflow.\n",
    "\n",
    "The purpose of the ML model is to generate a probability distribution for a given Boson Sampling configuration of input: <b>n</b> photons , <b>m</b> modes, and <b>(m*(m-1)/2)</b> Beam splitters with various configurations, <b>(θ,ϕ)</b>. An ML model that can successfully generate accurate probability distributions for large n and m (where m > n) is equivalent to calculating the matrix permanent (https://en.wikipedia.org/wiki/Permanent_(mathematics)), a difficult problem thought to be NP and more efficiently solvable through quantum mechanics than known classical means (though there is no known killer application for doing so). "
   ]
  },
  {
   "cell_type": "code",
   "execution_count": null,
   "metadata": {},
   "outputs": [],
   "source": [
    "import strawberryfields as sf\n",
    "from strawberryfields.ops import *\n",
    "import itertools as it\n",
    "import numpy as np\n",
    "import random\n",
    "import pickle\n",
    "from tqdm import tqdm"
   ]
  },
  {
   "cell_type": "code",
   "execution_count": 2,
   "metadata": {},
   "outputs": [],
   "source": [
    "class BosonSampler:\n",
    "    \n",
    "    def __init__(self, photon_num, modes, verbose=False):\n",
    "        self.photon_num     = photon_num\n",
    "        self.modes          = modes\n",
    "        self.eng            = sf.Engine(backend=\"fock\", backend_options={\"cutoff_dim\": self.photon_num+1})\n",
    "        self.boson_sampling = sf.Program(self.modes)\n",
    "        self.photons        = 0\n",
    "        self.mode_num       = 0\n",
    "        self.bs_num         = 0\n",
    "        self.bs_max         = modes*(modes-1)/2\n",
    "        self.bs_variables   = []   # keep track of BS(θ,ϕ) for input to NN\n",
    "        self.photon_pos     = list(np.zeros(modes)) #  keep track of how many photons occupy the modes (1 for mode w/ photon\n",
    "                                                    #   0 for mode w/out photon)\n",
    "        self.output         = []   # keep track of output probabilities\n",
    "        self.input          = []   # to be the addition of lists (photon_pos + bs_variables) at the end\n",
    "        self.probs          = []   # all fock state probabilities\n",
    "        self.outcome_possibilities = [] # different outcome mode possibilities (assuming no loss)\n",
    "        self.verbose        = verbose\n",
    "    \n",
    "    def run_sampler(self):\n",
    "        if self.verbose:\n",
    "            print('Setting up Boson Sampler...')\n",
    "        with self.boson_sampling.context as q:\n",
    "            while self.photons < self.photon_num:\n",
    "                # all photons are placed in modes in ascending order\n",
    "                Fock(1)|q[self.mode_num]\n",
    "                # update input list for NN to let it know there was a photon here\n",
    "                self.photon_pos[self.photons] = 1\n",
    "                # go to next mode/photon\n",
    "                self.mode_num +=1\n",
    "                self.photons  +=1\n",
    "\n",
    "            while self.mode_num < self.modes:\n",
    "                Vac     | q[self.mode_num]\n",
    "                self.mode_num +=1\n",
    "            self.mode_num = 0\n",
    "            if self.verbose:\n",
    "                print('Simulating {} photons bouncing through {} beam splitters in {} modes!'.format(self.photon_num, self.bs_max, self.modes))\n",
    "            while self.bs_num < self.bs_max:\n",
    "                if self.mode_num+1 < self.modes:\n",
    "                    \n",
    "                    # get random numbers for BS(θ,ϕ) and append to our input list\n",
    "                    var_1 = random.uniform(0, 1)\n",
    "                    var_2 = random.uniform(0, 1)\n",
    "                    self.bs_variables.append(var_1)\n",
    "                    self.bs_variables.append(var_2)\n",
    "                    \n",
    "                    BSgate(var_1, var_1) | (q[self.mode_num], q[self.mode_num+1])\n",
    "                    self.bs_num +=1\n",
    "                    self.mode_num +=2\n",
    "                else:\n",
    "                    if self.mode_num % 2 == 0:\n",
    "                        self.mode_num = 1\n",
    "                    else:\n",
    "                        self.mode_num = 0\n",
    "                    continue\n",
    "\n",
    "        # get total input for the Neural Net\n",
    "        self.input = self.photon_pos + self.bs_variables\n",
    "    \n",
    "        # run the engine\n",
    "        self.results = self.eng.run(self.boson_sampling)\n",
    "        self.probs = self.results.state.all_fock_probs()  # get all outcome probabilities\n",
    "\n",
    "        self.outcome_possibilities = [config for config in it.product(list(range(self.photon_num+1)), \n",
    "                                                                      repeat=self.modes) if sum(config)==self.photon_num]\n",
    "        # get output probabilities\n",
    "        for outcome in self.outcome_possibilities:\n",
    "            self.output.append(self.probs[outcome])\n",
    "\n",
    "        \n",
    "    def display_outcomes(self):\n",
    "        print('Number of outcome possibilities: ', len(self.outcome_possibilities))\n",
    "        prob_sum = 0\n",
    "        # display probabilities per possible outcome mode\n",
    "        for outcome in self.outcome_possibilities:\n",
    "            print('Outcome: {} -- Probability: {}'.format(outcome, self.probs[outcome]))\n",
    "            prob_sum += self.probs[outcome]\n",
    "        print(\"Sanity Check -- Total Probability = {}\".format(prob_sum))"
   ]
  },
  {
   "cell_type": "code",
   "execution_count": 3,
   "metadata": {
    "scrolled": true
   },
   "outputs": [
    {
     "name": "stdout",
     "output_type": "stream",
     "text": [
      "Setting up Boson Sampler...\n",
      "Simulating 3 photons bouncing through 10.0 beam splitters in 5 modes!\n",
      "Number of outcome possibilities:  35\n",
      "Outcome: (0, 0, 0, 0, 3) -- Probability: 9.102358095879164e-06\n",
      "Outcome: (0, 0, 0, 1, 2) -- Probability: 0.0003953209978666425\n",
      "Outcome: (0, 0, 0, 2, 1) -- Probability: 0.002836688669971109\n",
      "Outcome: (0, 0, 0, 3, 0) -- Probability: 0.0016391736645210006\n",
      "Outcome: (0, 0, 1, 0, 2) -- Probability: 0.0001363003493555341\n",
      "Outcome: (0, 0, 1, 1, 1) -- Probability: 0.0013267307380431348\n",
      "Outcome: (0, 0, 1, 2, 0) -- Probability: 0.0002726306605126517\n",
      "Outcome: (0, 0, 2, 0, 1) -- Probability: 0.0001196681613193657\n",
      "Outcome: (0, 0, 2, 1, 0) -- Probability: 0.00015233141440498455\n",
      "Outcome: (0, 0, 3, 0, 0) -- Probability: 8.59182542379851e-05\n",
      "Outcome: (0, 1, 0, 0, 2) -- Probability: 0.007864126181512318\n",
      "Outcome: (0, 1, 0, 1, 1) -- Probability: 0.05592871500886745\n",
      "Outcome: (0, 1, 0, 2, 0) -- Probability: 0.022530364414817546\n",
      "Outcome: (0, 1, 1, 0, 1) -- Probability: 0.007081038260896648\n",
      "Outcome: (0, 1, 1, 1, 0) -- Probability: 0.001392978907356368\n",
      "Outcome: (0, 1, 2, 0, 0) -- Probability: 0.0029394511852277217\n",
      "Outcome: (0, 2, 0, 0, 1) -- Probability: 0.016779172512790562\n",
      "Outcome: (0, 2, 0, 1, 0) -- Probability: 0.001979639883225995\n",
      "Outcome: (0, 2, 1, 0, 0) -- Probability: 0.003597996145669624\n",
      "Outcome: (0, 3, 0, 0, 0) -- Probability: 0.00048328706574498947\n",
      "Outcome: (1, 0, 0, 0, 2) -- Probability: 8.526910229919449e-05\n",
      "Outcome: (1, 0, 0, 1, 1) -- Probability: 0.008024927649794716\n",
      "Outcome: (1, 0, 0, 2, 0) -- Probability: 0.0037337727308687507\n",
      "Outcome: (1, 0, 1, 0, 1) -- Probability: 0.004427467164632323\n",
      "Outcome: (1, 0, 1, 1, 0) -- Probability: 0.0003772424228592395\n",
      "Outcome: (1, 0, 2, 0, 0) -- Probability: 0.0013246367483187626\n",
      "Outcome: (1, 1, 0, 0, 1) -- Probability: 0.5522206982847719\n",
      "Outcome: (1, 1, 0, 1, 0) -- Probability: 0.12583096190757348\n",
      "Outcome: (1, 1, 1, 0, 0) -- Probability: 0.08094145689975202\n",
      "Outcome: (1, 2, 0, 0, 0) -- Probability: 0.014278520788437391\n",
      "Outcome: (2, 0, 0, 0, 1) -- Probability: 0.03918139624190932\n",
      "Outcome: (2, 0, 0, 1, 0) -- Probability: 0.01520015195351174\n",
      "Outcome: (2, 0, 1, 0, 0) -- Probability: 0.0031443856379425638\n",
      "Outcome: (2, 1, 0, 0, 0) -- Probability: 0.0209326875084136\n",
      "Outcome: (3, 0, 0, 0, 0) -- Probability: 0.0027457901244780903\n",
      "Sanity Check -- Total Probability = 1.0000000000000007\n"
     ]
    }
   ],
   "source": [
    "# run the sampler once\n",
    "b_sampler = BosonSampler(photon_num=3, modes=5, verbose=True)\n",
    "b_sampler.run_sampler()\n",
    "b_sampler.display_outcomes()"
   ]
  },
  {
   "cell_type": "code",
   "execution_count": 4,
   "metadata": {},
   "outputs": [
    {
     "name": "stderr",
     "output_type": "stream",
     "text": [
      "100%|██████████████████████████████████| 10000/10000 [2:00:07<00:00,  1.39it/s]\n"
     ]
    }
   ],
   "source": [
    "# now generate input/output pairs to save for our ML model\n",
    "# all data generated saved to json file\n",
    "\n",
    "sample_size = 10000  # how many input/output data set pairs to generate\n",
    "\n",
    "X = []\n",
    "Y = []\n",
    "\n",
    "for i in tqdm(range(sample_size)):\n",
    "    #print('Simulating Boson Sample {} out of {}'.format(i, sample_size))\n",
    "    b_sampler = BosonSampler(photon_num=3, modes=5)\n",
    "    b_sampler.run_sampler()\n",
    "\n",
    "    X.append(np.array(b_sampler.input))\n",
    "    Y.append(np.array(b_sampler.output))\n",
    "\n",
    "save_filename = '../data/data.sav'\n",
    "pickle.dump([X,Y], open(save_filename, 'wb'))        "
   ]
  }
 ],
 "metadata": {
  "kernelspec": {
   "display_name": "Python 3",
   "language": "python",
   "name": "python3"
  },
  "language_info": {
   "codemirror_mode": {
    "name": "ipython",
    "version": 3
   },
   "file_extension": ".py",
   "mimetype": "text/x-python",
   "name": "python",
   "nbconvert_exporter": "python",
   "pygments_lexer": "ipython3",
   "version": "3.5.2"
  }
 },
 "nbformat": 4,
 "nbformat_minor": 4
}
