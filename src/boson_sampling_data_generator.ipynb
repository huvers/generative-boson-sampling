{
 "cells": [
  {
   "cell_type": "markdown",
   "metadata": {},
   "source": [
    "## Author: Sean Huver\n",
    "\n",
    "#### Email: huvers@gmail.com\n",
    "\n",
    "The goal here is to create a generalized format for quickly generating data from various boson sampling configurations using the strawberryfields library. This data will then later be used to train generative ML models with Tensorflow.\n",
    "\n",
    "The purpose of the ML model is to generate a probability distribution for a given Boson Sampling configuration of input: <b>n</b> photons , <b>m</b> modes, and <b>(m*(m-1)/2)</b> Beam splitters with various configurations, <b>(θ,ϕ)</b>. An ML model that can successfully generate accurate probability distributions for large n and m (where m > n) is equivalent to calculating the matrix permanent (https://en.wikipedia.org/wiki/Permanent_(mathematics)), a difficult problem thought to be NP and more efficiently solvable through quantum mechanics than known classical means (though there is no known killer application for doing so). "
   ]
  },
  {
   "cell_type": "code",
   "execution_count": 1,
   "metadata": {},
   "outputs": [],
   "source": [
    "import strawberryfields as sf\n",
    "from strawberryfields.ops import *\n",
    "import itertools as it\n",
    "import numpy as np\n",
    "import random\n",
    "import pickle\n",
    "from tqdm import tqdm"
   ]
  },
  {
   "cell_type": "code",
   "execution_count": 5,
   "metadata": {},
   "outputs": [],
   "source": [
    "class BosonSampler:\n",
    "    \n",
    "    def __init__(self, photon_num, modes, verbose=False):\n",
    "        self.photon_num     = photon_num  # how many total photons in the experiment\n",
    "        self.modes          = modes       # how many accessible modes\n",
    "        self.eng            = sf.Engine(backend=\"fock\", backend_options={\"cutoff_dim\": self.photon_num+1})\n",
    "        self.boson_sampling = sf.Program(self.modes)\n",
    "        self.photons        = 0           # counter for deploying photons\n",
    "        self.mode_num       = 0           # keeps track of which mode we're interacting with\n",
    "        self.bs_num         = 0           # counter for deploying beam splitters\n",
    "        self.bs_max         = modes*(modes-1)/2 # total number of beam splitters (to guarantee unitary conditions)\n",
    "        self.bs_variables   = []          # keep track of BS(θ,ϕ) properties for input to NN\n",
    "        self.photon_pos     = list(np.zeros(modes)) #  keep track of how many photons occupy the modes (1 for mode w/ photon\n",
    "                                                    #   0 for mode w/out photon)\n",
    "        self.input          = []   # all the inputs for the sampler (photon_pos + bs_variables)\n",
    "        self.output         = []   # the probability distribution output\n",
    "        self.probs          = []   # all fock state probabilities\n",
    "        self.outcome_possibilities = [] # different outcome mode possibilities (assuming no loss)\n",
    "        self.verbose        = verbose \n",
    "    \n",
    "    def run_sampler(self):\n",
    "        if self.verbose:\n",
    "            print('Setting up Boson Sampler...')\n",
    "        with self.boson_sampling.context as q:\n",
    "            while self.photons < self.photon_num:\n",
    "                # all photons are placed in modes in ascending order\n",
    "                Fock(1)|q[self.mode_num]\n",
    "                # update input list for NN to let it know there was a photon here\n",
    "                self.photon_pos[self.photons] = 1\n",
    "                # go to next mode/photon\n",
    "                self.mode_num +=1\n",
    "                self.photons  +=1\n",
    "\n",
    "            while self.mode_num < self.modes:\n",
    "                Vac     | q[self.mode_num]\n",
    "                self.mode_num +=1\n",
    "            self.mode_num = 0\n",
    "            if self.verbose:\n",
    "                print('Simulating {} photons bouncing through {} beam splitters in {} modes!'.format(self.photon_num, self.bs_max, self.modes))\n",
    "            while self.bs_num < self.bs_max:\n",
    "                if self.mode_num+1 < self.modes:\n",
    "                    \n",
    "                    # get random numbers for BS(θ,ϕ) and append to our input list\n",
    "                    var_1 = random.uniform(0, 1)\n",
    "                    var_2 = random.uniform(0, 1)\n",
    "                    self.bs_variables.append(var_1)\n",
    "                    self.bs_variables.append(var_2)\n",
    "                    \n",
    "                    BSgate(var_1, var_2) | (q[self.mode_num], q[self.mode_num+1])\n",
    "                    self.bs_num +=1\n",
    "                    self.mode_num +=2\n",
    "                else:\n",
    "                    if self.mode_num % 2 == 0:\n",
    "                        self.mode_num = 1\n",
    "                    else:\n",
    "                        self.mode_num = 0\n",
    "                    continue\n",
    "\n",
    "        # get total input for the Neural Net\n",
    "        self.input = self.photon_pos + self.bs_variables\n",
    "    \n",
    "        # run the engine\n",
    "        self.results = self.eng.run(self.boson_sampling)\n",
    "        self.probs = self.results.state.all_fock_probs()  # get all outcome probabilities\n",
    "\n",
    "        self.outcome_possibilities = [config for config in it.product(list(range(self.photon_num+1)), \n",
    "                                                                      repeat=self.modes) if sum(config)==self.photon_num]\n",
    "        # get output probabilities\n",
    "        for outcome in self.outcome_possibilities:\n",
    "            self.output.append(self.probs[outcome])\n",
    "\n",
    "        \n",
    "    def display_outcomes(self):\n",
    "        print('Number of outcome possibilities: ', len(self.outcome_possibilities))\n",
    "        prob_sum = 0\n",
    "        # display probabilities per possible outcome mode\n",
    "        for outcome in self.outcome_possibilities:\n",
    "            print('Outcome: {} -- Probability: {}'.format(outcome, self.probs[outcome]))\n",
    "            prob_sum += self.probs[outcome]\n",
    "        print(\"Sanity Check -- Total Probability = {}\".format(prob_sum))"
   ]
  },
  {
   "cell_type": "code",
   "execution_count": 7,
   "metadata": {
    "scrolled": true
   },
   "outputs": [
    {
     "name": "stdout",
     "output_type": "stream",
     "text": [
      "Setting up Boson Sampler...\n",
      "Simulating 3 photons bouncing through 10.0 beam splitters in 5 modes!\n",
      "Number of outcome possibilities:  35\n",
      "Outcome: (0, 0, 0, 0, 3) -- Probability: 9.249709977167102e-09\n",
      "Outcome: (0, 0, 0, 1, 2) -- Probability: 8.2803609063809e-06\n",
      "Outcome: (0, 0, 0, 2, 1) -- Probability: 0.0017041136969810871\n",
      "Outcome: (0, 0, 0, 3, 0) -- Probability: 0.0340980349890582\n",
      "Outcome: (0, 0, 1, 0, 2) -- Probability: 1.178338479401453e-05\n",
      "Outcome: (0, 0, 1, 1, 1) -- Probability: 0.004486601315500123\n",
      "Outcome: (0, 0, 1, 2, 0) -- Probability: 0.08652927460163881\n",
      "Outcome: (0, 0, 2, 0, 1) -- Probability: 0.00289886283306152\n",
      "Outcome: (0, 0, 2, 1, 0) -- Probability: 0.05514852960822213\n",
      "Outcome: (0, 0, 3, 0, 0) -- Probability: 0.005464829401822128\n",
      "Outcome: (0, 1, 0, 0, 2) -- Probability: 1.4634394419145111e-05\n",
      "Outcome: (0, 1, 0, 1, 1) -- Probability: 0.004940468071119608\n",
      "Outcome: (0, 1, 0, 2, 0) -- Probability: 0.04483891242430084\n",
      "Outcome: (0, 1, 1, 0, 1) -- Probability: 0.006188236805481953\n",
      "Outcome: (0, 1, 1, 1, 0) -- Probability: 0.023821560420183723\n",
      "Outcome: (0, 1, 2, 0, 0) -- Probability: 0.003650990335775161\n",
      "Outcome: (0, 2, 0, 0, 1) -- Probability: 0.0029543904144753554\n",
      "Outcome: (0, 2, 0, 1, 0) -- Probability: 0.005230266001665125\n",
      "Outcome: (0, 2, 1, 0, 0) -- Probability: 0.09217052107421012\n",
      "Outcome: (0, 3, 0, 0, 0) -- Probability: 0.11986067101024496\n",
      "Outcome: (1, 0, 0, 0, 2) -- Probability: 1.617116866622212e-06\n",
      "Outcome: (1, 0, 0, 1, 1) -- Probability: 0.00016838636745981556\n",
      "Outcome: (1, 0, 0, 2, 0) -- Probability: 0.002970182854359769\n",
      "Outcome: (1, 0, 1, 0, 1) -- Probability: 0.0001058052059567419\n",
      "Outcome: (1, 0, 1, 1, 0) -- Probability: 0.003258372519530172\n",
      "Outcome: (1, 0, 2, 0, 0) -- Probability: 0.0009677271336446199\n",
      "Outcome: (1, 1, 0, 0, 1) -- Probability: 0.0005715814595383898\n",
      "Outcome: (1, 1, 0, 1, 0) -- Probability: 0.006823062321017708\n",
      "Outcome: (1, 1, 1, 0, 0) -- Probability: 0.0017744478626509292\n",
      "Outcome: (1, 2, 0, 0, 0) -- Probability: 0.014796449487841869\n",
      "Outcome: (2, 0, 0, 0, 1) -- Probability: 0.022011893004413943\n",
      "Outcome: (2, 0, 0, 1, 0) -- Probability: 0.2323831961387387\n",
      "Outcome: (2, 0, 1, 0, 0) -- Probability: 0.013916867698685678\n",
      "Outcome: (2, 1, 0, 0, 0) -- Probability: 0.18920306040705304\n",
      "Outcome: (3, 0, 0, 0, 0) -- Probability: 0.01702638002867179\n",
      "Sanity Check -- Total Probability = 1.0000000000000002\n"
     ]
    }
   ],
   "source": [
    "# run a single Boson Sampling simulation -- large n/m consume a lot of RAM!\n",
    "b_sampler = BosonSampler(photon_num=3, modes=5, verbose=True)\n",
    "b_sampler.run_sampler()\n",
    "b_sampler.display_outcomes()"
   ]
  },
  {
   "cell_type": "code",
   "execution_count": 8,
   "metadata": {},
   "outputs": [
    {
     "name": "stderr",
     "output_type": "stream",
     "text": [
      "100%|██████████| 4000/4000 [48:38<00:00,  1.37it/s]\n"
     ]
    }
   ],
   "source": [
    "# now generate input/output pairs to save for our ML model\n",
    "# all data generated is pickle'd\n",
    "\n",
    "sample_size = 4000  # how many input/output data set pairs to generate\n",
    "\n",
    "photon_num = 3\n",
    "modes      = 5\n",
    "\n",
    "X = []\n",
    "Y = []\n",
    "\n",
    "for i in tqdm(range(sample_size)):\n",
    "    #print('Simulating Boson Sample {} out of {}'.format(i, sample_size))\n",
    "    b_sampler = BosonSampler(photon_num, modes)\n",
    "    b_sampler.run_sampler()\n",
    "\n",
    "    X.append(np.array(b_sampler.input))\n",
    "    Y.append(np.array(b_sampler.output))\n",
    "\n",
    "save_filename = '../data/data.sav'\n",
    "pickle.dump([X,Y], open(save_filename, 'wb')) # use 'a' to append, 'wb' to write new       "
   ]
  },
  {
   "cell_type": "code",
   "execution_count": null,
   "metadata": {},
   "outputs": [],
   "source": []
  }
 ],
 "metadata": {
  "kernelspec": {
   "display_name": "Python 3",
   "language": "python",
   "name": "python3"
  },
  "language_info": {
   "codemirror_mode": {
    "name": "ipython",
    "version": 3
   },
   "file_extension": ".py",
   "mimetype": "text/x-python",
   "name": "python",
   "nbconvert_exporter": "python",
   "pygments_lexer": "ipython3",
   "version": "3.5.2"
  }
 },
 "nbformat": 4,
 "nbformat_minor": 4
}
