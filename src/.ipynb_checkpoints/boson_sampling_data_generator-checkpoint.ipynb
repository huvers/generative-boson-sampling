{
 "cells": [
  {
   "cell_type": "markdown",
   "metadata": {},
   "source": [
    "## Author: Sean Huver\n",
    "\n",
    "#### Email: huvers@gmail.com\n",
    "\n",
    "The goal here is to create a generalized format for quickly generating data from various boson sampling configurations using the strawberryfields library. This data will then later be used to train generative ML models with Tensorflow.\n",
    "\n",
    "The purpose of the ML model is to generate a probability distribution for a given Boson Sampling configuration of input: <b>n</b> photons , <b>m</b> modes, and <b>(m*(m-1)/2)</b> Beam splitters with various configurations, <b>(θ,ϕ)</b>. An ML model that can successfully generate accurate probability distributions for large n and m (where m > n) is equivalent to calculating the matrix permanent (https://en.wikipedia.org/wiki/Permanent_(mathematics)), a difficult problem thought to be NP and more efficiently solvable through quantum mechanics than known classical means (though there is no known killer application for doing so). "
   ]
  },
  {
   "cell_type": "code",
   "execution_count": 7,
   "metadata": {},
   "outputs": [],
   "source": [
    "import os\n",
    "import strawberryfields as sf\n",
    "from strawberryfields.ops import *\n",
    "import itertools as it\n",
    "import numpy as np\n",
    "import random\n",
    "import pickle\n",
    "from tqdm import tqdm\n",
    "\n",
    "import multiprocessing\n",
    "from multiprocessing import Process, TimeoutError"
   ]
  },
  {
   "cell_type": "code",
   "execution_count": 3,
   "metadata": {},
   "outputs": [],
   "source": [
    "class BosonSampler:\n",
    "    \n",
    "    def __init__(self, photon_num, modes, verbose=False):\n",
    "        self.photon_num     = photon_num  # how many total photons in the experiment\n",
    "        self.modes          = modes       # how many accessible modes\n",
    "        self.eng            = sf.Engine(backend=\"fock\", backend_options={\"cutoff_dim\": self.photon_num+1})\n",
    "        self.boson_sampling = sf.Program(self.modes)\n",
    "        self.photons        = 0           # counter for deploying photons\n",
    "        self.mode_num       = 0           # keeps track of which mode we're interacting with\n",
    "        self.bs_num         = 0           # counter for deploying beam splitters\n",
    "        self.bs_max         = modes*(modes-1)/2 # total number of beam splitters (to guarantee unitary conditions)\n",
    "        self.bs_variables   = []          # keep track of BS(θ,ϕ) properties for input to NN\n",
    "        self.photon_pos     = list(np.zeros(modes)) #  keep track of how many photons occupy the modes (1 for mode w/ photon\n",
    "                                                    #   0 for mode w/out photon)\n",
    "        self.input          = []   # all the inputs for the sampler (photon_pos + bs_variables)\n",
    "        self.output         = []   # the probability distribution output\n",
    "        self.probs          = []   # all fock state probabilities\n",
    "        self.outcome_possibilities = [] # different outcome mode possibilities (assuming no loss)\n",
    "        self.verbose        = verbose \n",
    "    \n",
    "    def run_sampler(self):\n",
    "        if self.verbose:\n",
    "            print('Setting up Boson Sampler...')\n",
    "        with self.boson_sampling.context as q:\n",
    "            while self.photons < self.photon_num:\n",
    "                # all photons are placed in modes in ascending order\n",
    "                Fock(1)|q[self.mode_num]\n",
    "                # update input list for NN to let it know there was a photon here\n",
    "                self.photon_pos[self.photons] = 1\n",
    "                # go to next mode/photon\n",
    "                self.mode_num +=1\n",
    "                self.photons  +=1\n",
    "\n",
    "            while self.mode_num < self.modes:\n",
    "                Vac     | q[self.mode_num]\n",
    "                self.mode_num +=1\n",
    "            self.mode_num = 0\n",
    "            if self.verbose:\n",
    "                print('Simulating {} photons bouncing through {} beam splitters in {} modes!'.format(self.photon_num, self.bs_max, self.modes))\n",
    "            while self.bs_num < self.bs_max:\n",
    "                if self.mode_num+1 < self.modes:\n",
    "                    \n",
    "                    # get random numbers for BS(θ,ϕ) and append to our input list\n",
    "                    var_1 = random.uniform(0, 1)\n",
    "                    var_2 = random.uniform(0, 1)\n",
    "                    self.bs_variables.append(var_1)\n",
    "                    self.bs_variables.append(var_2)\n",
    "                    \n",
    "                    BSgate(var_1, var_2) | (q[self.mode_num], q[self.mode_num+1])\n",
    "                    self.bs_num +=1\n",
    "                    self.mode_num +=2\n",
    "                else:\n",
    "                    if self.mode_num % 2 == 0:\n",
    "                        self.mode_num = 1\n",
    "                    else:\n",
    "                        self.mode_num = 0\n",
    "                    continue\n",
    "\n",
    "        # get total input for the Neural Net\n",
    "        self.input = self.photon_pos + self.bs_variables\n",
    "    \n",
    "        # run the engine\n",
    "        self.results = self.eng.run(self.boson_sampling)\n",
    "        self.probs = self.results.state.all_fock_probs()  # get all outcome probabilities\n",
    "        \n",
    "        # num_outcome_possibilities = (n+m-1)! / n!(m-1)! \n",
    "        self.outcome_possibilities = [config for config in it.product(list(range(self.photon_num+1)), \n",
    "                                                                      repeat=self.modes) if sum(config)==self.photon_num]\n",
    "        # get output probabilities\n",
    "        for outcome in self.outcome_possibilities:\n",
    "            self.output.append(self.probs[outcome])\n",
    "\n",
    "        \n",
    "    def display_outcomes(self):\n",
    "        print('Number of outcome possibilities: ', len(self.outcome_possibilities))\n",
    "        prob_sum = 0\n",
    "        # display probabilities per possible outcome mode\n",
    "        for outcome in self.outcome_possibilities:\n",
    "            print('Outcome: {} -- Probability: {}'.format(outcome, self.probs[outcome]))\n",
    "            prob_sum += self.probs[outcome]\n",
    "        print(\"Sanity Check -- Total Probability = {}\".format(prob_sum))"
   ]
  },
  {
   "cell_type": "code",
   "execution_count": 11,
   "metadata": {
    "scrolled": true
   },
   "outputs": [
    {
     "name": "stdout",
     "output_type": "stream",
     "text": [
      "Setting up Boson Sampler...\n",
      "Simulating 3 photons bouncing through 10.0 beam splitters in 5 modes!\n",
      "Number of outcome possibilities:  35\n",
      "Outcome: (0, 0, 0, 0, 3) -- Probability: 3.561861145525575e-11\n",
      "Outcome: (0, 0, 0, 1, 2) -- Probability: 4.535481161228384e-08\n",
      "Outcome: (0, 0, 0, 2, 1) -- Probability: 1.1904408297958485e-05\n",
      "Outcome: (0, 0, 0, 3, 0) -- Probability: 0.0001912123894656016\n",
      "Outcome: (0, 0, 1, 0, 2) -- Probability: 6.674109991172179e-07\n",
      "Outcome: (0, 0, 1, 1, 1) -- Probability: 0.0003149429700315188\n",
      "Outcome: (0, 0, 1, 2, 0) -- Probability: 0.004126894396336671\n",
      "Outcome: (0, 0, 2, 0, 1) -- Probability: 0.0020099154214767777\n",
      "Outcome: (0, 0, 2, 1, 0) -- Probability: 0.018016971670323182\n",
      "Outcome: (0, 0, 3, 0, 0) -- Probability: 0.004420828947214229\n",
      "Outcome: (0, 1, 0, 0, 2) -- Probability: 2.1327330073309696e-06\n",
      "Outcome: (0, 1, 0, 1, 1) -- Probability: 0.0009836821804670049\n",
      "Outcome: (0, 1, 0, 2, 0) -- Probability: 0.01202125291798625\n",
      "Outcome: (0, 1, 1, 0, 1) -- Probability: 0.012414072427572906\n",
      "Outcome: (0, 1, 1, 1, 0) -- Probability: 0.0955587313902846\n",
      "Outcome: (0, 1, 2, 0, 0) -- Probability: 0.010967730349312147\n",
      "Outcome: (0, 2, 0, 0, 1) -- Probability: 0.019077999934574607\n",
      "Outcome: (0, 2, 0, 1, 0) -- Probability: 0.12610174395120546\n",
      "Outcome: (0, 2, 1, 0, 0) -- Probability: 0.0035400662656541546\n",
      "Outcome: (0, 3, 0, 0, 0) -- Probability: 0.038738952233545426\n",
      "Outcome: (1, 0, 0, 0, 2) -- Probability: 3.15558720828627e-06\n",
      "Outcome: (1, 0, 0, 1, 1) -- Probability: 0.0009122603311487267\n",
      "Outcome: (1, 0, 0, 2, 0) -- Probability: 0.01097398197927684\n",
      "Outcome: (1, 0, 1, 0, 1) -- Probability: 0.008230949251397014\n",
      "Outcome: (1, 0, 1, 1, 0) -- Probability: 0.068810369364905\n",
      "Outcome: (1, 0, 2, 0, 0) -- Probability: 0.012458284993463183\n",
      "Outcome: (1, 1, 0, 0, 1) -- Probability: 0.021239007342730803\n",
      "Outcome: (1, 1, 0, 1, 0) -- Probability: 0.14943564167147577\n",
      "Outcome: (1, 1, 1, 0, 0) -- Probability: 0.00499040825817728\n",
      "Outcome: (1, 2, 0, 0, 0) -- Probability: 0.02643616732761775\n",
      "Outcome: (2, 0, 0, 0, 1) -- Probability: 0.034745515600356575\n",
      "Outcome: (2, 0, 0, 1, 0) -- Probability: 0.2621630624965469\n",
      "Outcome: (2, 0, 1, 0, 0) -- Probability: 0.02445208387203214\n",
      "Outcome: (2, 1, 0, 0, 0) -- Probability: 0.02637181522715161\n",
      "Outcome: (3, 0, 0, 0, 0) -- Probability: 0.00027754930832696225\n",
      "Sanity Check -- Total Probability = 0.9999999999999999\n"
     ]
    }
   ],
   "source": [
    "# run a single Boson Sampling simulation -- large n/m consume a lot of RAM!\n",
    "b_sampler = BosonSampler(photon_num=3, modes=5, verbose=True)\n",
    "b_sampler.run_sampler()\n",
    "b_sampler.display_outcomes()"
   ]
  },
  {
   "cell_type": "code",
   "execution_count": 8,
   "metadata": {},
   "outputs": [
    {
     "name": "stderr",
     "output_type": "stream",
     "text": [
      "100%|██████████| 5/5 [01:23<00:00, 16.77s/it]\n"
     ]
    }
   ],
   "source": [
    "# now generate input/output pairs to save for our ML model\n",
    "# all data generated is pickle'd\n",
    "\n",
    "\n",
    "sample_size = 5  # how many input/output data set pairs to generate\n",
    "\n",
    "photon_num = 3\n",
    "modes      = 6\n",
    "\n",
    "\n",
    "X = []\n",
    "Y = []\n",
    "\n",
    "for i in tqdm(range(sample_size)):\n",
    "    #print('Simulating Boson Sample {} out of {}'.format(i, sample_size))\n",
    "    b_sampler = BosonSampler(photon_num, modes)\n",
    "    b_sampler.run_sampler()\n",
    "\n",
    "    X.append(np.array(b_sampler.input))\n",
    "    Y.append(np.array(b_sampler.output))\n",
    "\n",
    "filename = '../data/' + str(modes) + '_' + str(photon_num) + '_' + 'data.sav'\n",
    "\n",
    "if os.path.exists(filename):\n",
    "    append_write = 'a' # append if already exists\n",
    "else:\n",
    "    append_write = 'wb' # make a new file if not\n",
    "    \n",
    "pickle.dump([X,Y], open(filename, append_write))"
   ]
  },
  {
   "cell_type": "code",
   "execution_count": 14,
   "metadata": {},
   "outputs": [
    {
     "name": "stderr",
     "output_type": "stream",
     "text": [
      "100%|██████████| 200/200 [00:18<00:00, 10.75it/s] \n"
     ]
    }
   ],
   "source": [
    "cores = multiprocessing.cpu_count()\n",
    "filename = '../data/data_new.sav'\n",
    "\n",
    "sample_size = 200  # how many input/output data set pairs to generate\n",
    "\n",
    "\n",
    "def run_sim(photon_num, modes):\n",
    "    b_sampler = BosonSampler(photon_num, modes)\n",
    "    b_sampler.run_sampler()\n",
    "    \n",
    "    X = np.array(b_sampler.input)\n",
    "    Y = np.array(b_sampler.output)\n",
    "    \n",
    "    if os.path.exists(filename):\n",
    "        append_write = 'a' # append if already exists\n",
    "    else:\n",
    "        append_write = 'wb' # make a new file if not\n",
    "        \n",
    "    pickle.dump([X,Y], open(filename, append_write))\n",
    "\n",
    "for j in tqdm(range(sample_size)):\n",
    "    for i in range(4):\n",
    "        proc = Process(target=run_sim, args=(3,5))\n",
    "        proc.start()"
   ]
  },
  {
   "cell_type": "code",
   "execution_count": null,
   "metadata": {},
   "outputs": [],
   "source": []
  }
 ],
 "metadata": {
  "kernelspec": {
   "display_name": "Python 3",
   "language": "python",
   "name": "python3"
  },
  "language_info": {
   "codemirror_mode": {
    "name": "ipython",
    "version": 3
   },
   "file_extension": ".py",
   "mimetype": "text/x-python",
   "name": "python",
   "nbconvert_exporter": "python",
   "pygments_lexer": "ipython3",
   "version": "3.5.2"
  }
 },
 "nbformat": 4,
 "nbformat_minor": 4
}
